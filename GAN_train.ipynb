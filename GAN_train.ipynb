{
 "cells": [
  {
   "cell_type": "markdown",
   "metadata": {},
   "source": [
    "Repo is here https://github.com/nashory/pggan-pytorch\n",
    "\n",
    "With examples and instructions, just in case..."
   ]
  },
  {
   "cell_type": "markdown",
   "metadata": {},
   "source": [
    "### Download your dataset data\n",
    "\n",
    "```!mkdir data && cd data && wget <url to your data> && unzip <name of your data> -d <destination_folder>```"
   ]
  },
  {
   "cell_type": "code",
   "execution_count": null,
   "metadata": {},
   "outputs": [],
   "source": [
    "!cd data && wget https://hb.bizmrg.com/filed_recordings/IP-scrnshts.zip && unzip IP-scrnshts.zip -d IP-scrnshts"
   ]
  },
  {
   "cell_type": "markdown",
   "metadata": {},
   "source": [
    "### SetUp the environment"
   ]
  },
  {
   "cell_type": "code",
   "execution_count": null,
   "metadata": {},
   "outputs": [],
   "source": [
    "!pip3 install tensorboardX==0.8 tensorflow==1.3.0 tensorflow-tensorboard==0.1.8 tqdm==4.19.4 Werkzeug==0.12.2 --user\n",
    "!conda install pytorch torchvision -c pytorch"
   ]
  },
  {
   "cell_type": "markdown",
   "metadata": {},
   "source": [
    "### Set the paramenters for model training\n",
    "\n",
    "Go back to Home window in your browser.\n",
    "This one:\n",
    "![](home.png)\n",
    "\n",
    "Choose file `config.py` and go change parameters, as you wish\n",
    "\n",
    "Now to the training part. Go and run the next cell!"
   ]
  },
  {
   "cell_type": "code",
   "execution_count": null,
   "metadata": {},
   "outputs": [],
   "source": [
    "!CUDA_VISIBLE_DEVICES=0 python3 trainer.py"
   ]
  },
  {
   "cell_type": "markdown",
   "metadata": {},
   "source": [
    "If you can see the * instead of a number left to the previous cell, it is successfully running, success.\n",
    "\n",
    "Like that\n",
    "\n",
    "![](run.png)\n",
    "\n",
    "\n",
    "### See the results\n",
    "\n",
    "All the visual results are shown in folder /repo/save\n",
    "\n",
    "The learning loss can be also visualized with additional difficulties. Go to the Home tab again. Now click there New->Terminal\n",
    "\n",
    "In the opened window, execute following command\n",
    "\n",
    "`tensorboard --logdir repo/tensorboard --port=9898`, the trick with port same as before.\n",
    "\n",
    "Now go to the terminal on YOUR computer and run again \n",
    "\n",
    "`ssh -N -f -L localhost:9898:localhost:9898 -i ~/keys/CentOS_GPUx1-10-150-100_100GB_id_rsa.pem ubuntu@89.208.199.154`\n",
    "port here is the same as in `tensorboard --logdir repo/tensorboard --port=9898`.\n",
    "\n",
    "Now open new tab/window in a browser and paste [http://localhost:9898](http://localhost:9898)\n",
    "\n",
    "Something like this \n",
    "\n",
    "![](tensorboard.png)"
   ]
  },
  {
   "cell_type": "code",
   "execution_count": null,
   "metadata": {},
   "outputs": [],
   "source": []
  }
 ],
 "metadata": {
  "kernelspec": {
   "display_name": "Python 3",
   "language": "python",
   "name": "python3"
  },
  "language_info": {
   "codemirror_mode": {
    "name": "ipython",
    "version": 3
   },
   "file_extension": ".py",
   "mimetype": "text/x-python",
   "name": "python",
   "nbconvert_exporter": "python",
   "pygments_lexer": "ipython3",
   "version": "3.6.0"
  }
 },
 "nbformat": 4,
 "nbformat_minor": 2
}
